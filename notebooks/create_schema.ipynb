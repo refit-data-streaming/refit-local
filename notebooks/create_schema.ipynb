{
 "cells": [
  {
   "cell_type": "code",
   "execution_count": 1,
   "metadata": {},
   "outputs": [
    {
     "name": "stdout",
     "output_type": "stream",
     "text": [
      "Collecting pycryptodome==3.9.8\n",
      "  Downloading pycryptodome-3.9.8-cp38-cp38-manylinux1_x86_64.whl (13.7 MB)\n",
      "\u001b[K     |████████████████████████████████| 13.7 MB 10.8 MB/s eta 0:00:01   |██▋                             | 1.1 MB 1.8 MB/s eta 0:00:08\n",
      "\u001b[?25hCollecting numpy==1.18.5\n",
      "  Downloading numpy-1.18.5-cp38-cp38-manylinux1_x86_64.whl (20.6 MB)\n",
      "\u001b[K     |████████████████████████████████| 20.6 MB 33.6 MB/s eta 0:00:01    |█▎                              | 829 kB 13.0 MB/s eta 0:00:02     |█████▋                          | 3.6 MB 13.0 MB/s eta 0:00:02\n",
      "\u001b[?25hCollecting pandas==1.1.0\n",
      "  Downloading pandas-1.1.0-cp38-cp38-manylinux1_x86_64.whl (10.3 MB)\n",
      "\u001b[K     |████████████████████████████████| 10.3 MB 12.7 MB/s eta 0:00:01\n",
      "\u001b[?25hCollecting seaborn==0.10.1\n",
      "  Downloading seaborn-0.10.1-py3-none-any.whl (215 kB)\n",
      "\u001b[K     |████████████████████████████████| 215 kB 14.0 MB/s eta 0:00:01\n",
      "\u001b[?25hCollecting matplotlib==3.3.0\n",
      "  Downloading matplotlib-3.3.0-1-cp38-cp38-manylinux1_x86_64.whl (11.5 MB)\n",
      "\u001b[K     |████████████████████████████████| 11.5 MB 20.0 MB/s eta 0:00:01    |███                             | 1.1 MB 20.0 MB/s eta 0:00:01     |███████████████████████████▉    | 10.0 MB 20.0 MB/s eta 0:00:01\n",
      "\u001b[?25hCollecting scipy==1.5.2\n",
      "  Downloading scipy-1.5.2-cp38-cp38-manylinux1_x86_64.whl (25.7 MB)\n",
      "\u001b[K     |████████████████████████████████| 25.7 MB 487 kB/s  eta 0:00:01    |█▌                              | 1.2 MB 13.4 MB/s eta 0:00:02     |██████▎                         | 5.1 MB 13.4 MB/s eta 0:00:02     |█████████████████████           | 16.8 MB 13.4 MB/s eta 0:00:01\n",
      "\u001b[?25hCollecting statsmodels==0.11.1\n",
      "  Downloading statsmodels-0.11.1-cp38-cp38-manylinux1_x86_64.whl (8.7 MB)\n",
      "\u001b[K     |████████████████████████████████| 8.7 MB 9.3 MB/s eta 0:00:01\n",
      "\u001b[?25hCollecting sklearn==0.0\n",
      "  Downloading sklearn-0.0.tar.gz (1.1 kB)\n",
      "Collecting scikit-learn==0.23.2\n",
      "  Downloading scikit_learn-0.23.2-cp38-cp38-manylinux1_x86_64.whl (6.8 MB)\n",
      "\u001b[K     |████████████████████████████████| 6.8 MB 17.8 MB/s eta 0:00:01     |███████████                     | 2.3 MB 17.8 MB/s eta 0:00:01     |█████████████████▋              | 3.7 MB 17.8 MB/s eta 0:00:01\n",
      "\u001b[?25hCollecting cassandra-driver==3.24.0\n",
      "  Downloading cassandra_driver-3.24.0-cp38-cp38-manylinux1_x86_64.whl (3.6 MB)\n",
      "\u001b[K     |████████████████████████████████| 3.6 MB 17.3 MB/s eta 0:00:01\n",
      "\u001b[?25hCollecting keras2onnx==1.6.0\n",
      "  Downloading keras2onnx-1.6.0-py3-none-any.whl (219 kB)\n",
      "\u001b[K     |████████████████████████████████| 219 kB 13.3 MB/s eta 0:00:01\n",
      "\u001b[?25hCollecting Keras==2.2.5\n",
      "  Downloading Keras-2.2.5-py2.py3-none-any.whl (336 kB)\n",
      "\u001b[K     |████████████████████████████████| 336 kB 44.8 MB/s eta 0:00:01\n",
      "\u001b[?25hCollecting protobuf==3.8.0\n",
      "  Downloading protobuf-3.8.0-py2.py3-none-any.whl (427 kB)\n",
      "\u001b[K     |████████████████████████████████| 427 kB 12.4 MB/s eta 0:00:01\n",
      "\u001b[?25hCollecting onnxmltools==1.6.0\n",
      "  Downloading onnxmltools-1.6.0-py2.py3-none-any.whl (287 kB)\n",
      "\u001b[K     |████████████████████████████████| 287 kB 25.6 MB/s eta 0:00:01\n",
      "\u001b[?25hCollecting pyyaml==5.3.1\n",
      "  Downloading PyYAML-5.3.1.tar.gz (269 kB)\n",
      "\u001b[K     |████████████████████████████████| 269 kB 10.7 MB/s eta 0:00:01\n",
      "\u001b[?25hCollecting minio==6.0.0\n",
      "  Downloading minio-6.0.0-py2.py3-none-any.whl (72 kB)\n",
      "\u001b[K     |████████████████████████████████| 72 kB 542 kB/s  eta 0:00:01\n",
      "\u001b[?25hCollecting pytz>=2017.2\n",
      "  Downloading pytz-2020.1-py2.py3-none-any.whl (510 kB)\n",
      "\u001b[K     |████████████████████████████████| 510 kB 8.7 MB/s eta 0:00:01\n",
      "\u001b[?25hRequirement already satisfied: python-dateutil>=2.7.3 in /opt/conda/lib/python3.8/site-packages (from pandas==1.1.0->-r refit/requirements.txt (line 3)) (2.8.1)\n",
      "Requirement already satisfied: pyparsing!=2.0.4,!=2.1.2,!=2.1.6,>=2.0.3 in /opt/conda/lib/python3.8/site-packages (from matplotlib==3.3.0->-r refit/requirements.txt (line 5)) (2.4.7)\n",
      "Collecting kiwisolver>=1.0.1\n",
      "  Downloading kiwisolver-1.2.0-cp38-cp38-manylinux1_x86_64.whl (92 kB)\n",
      "\u001b[K     |████████████████████████████████| 92 kB 42 kB/s s eta 0:00:01\n",
      "\u001b[?25hCollecting cycler>=0.10\n",
      "  Downloading cycler-0.10.0-py2.py3-none-any.whl (6.5 kB)\n",
      "Collecting pillow>=6.2.0\n",
      "  Downloading Pillow-7.2.0-cp38-cp38-manylinux1_x86_64.whl (2.2 MB)\n",
      "\u001b[K     |████████████████████████████████| 2.2 MB 15.2 MB/s eta 0:00:01\n",
      "\u001b[?25hCollecting patsy>=0.5\n",
      "  Downloading patsy-0.5.1-py2.py3-none-any.whl (231 kB)\n",
      "\u001b[K     |████████████████████████████████| 231 kB 17.1 MB/s eta 0:00:01\n",
      "\u001b[?25hCollecting joblib>=0.11\n",
      "  Downloading joblib-0.16.0-py3-none-any.whl (300 kB)\n",
      "\u001b[K     |████████████████████████████████| 300 kB 11.2 MB/s eta 0:00:01\n",
      "\u001b[?25hCollecting threadpoolctl>=2.0.0\n",
      "  Downloading threadpoolctl-2.1.0-py3-none-any.whl (12 kB)\n",
      "Requirement already satisfied: six>=1.9 in /opt/conda/lib/python3.8/site-packages (from cassandra-driver==3.24.0->-r refit/requirements.txt (line 10)) (1.15.0)\n",
      "Collecting geomet<0.3,>=0.1\n",
      "  Downloading geomet-0.2.1.post1-py3-none-any.whl (18 kB)\n",
      "Requirement already satisfied: requests in /opt/conda/lib/python3.8/site-packages (from keras2onnx==1.6.0->-r refit/requirements.txt (line 11)) (2.24.0)\n",
      "Collecting fire\n",
      "  Downloading fire-0.3.1.tar.gz (81 kB)\n",
      "\u001b[K     |████████████████████████████████| 81 kB 3.8 MB/s  eta 0:00:01:01\n",
      "\u001b[?25hCollecting onnx\n",
      "  Downloading onnx-1.7.0-cp38-cp38-manylinux1_x86_64.whl (7.4 MB)\n",
      "\u001b[K     |████████████████████████████████| 7.4 MB 9.7 MB/s eta 0:00:01     |██████▋                         | 1.5 MB 9.7 MB/s eta 0:00:01\n",
      "\u001b[?25hCollecting onnxconverter-common>=1.6.0\n",
      "  Downloading onnxconverter_common-1.7.0-py2.py3-none-any.whl (64 kB)\n",
      "\u001b[K     |████████████████████████████████| 64 kB 2.2 MB/s  eta 0:00:01\n",
      "\u001b[?25hCollecting keras-preprocessing>=1.1.0\n",
      "  Downloading Keras_Preprocessing-1.1.2-py2.py3-none-any.whl (42 kB)\n",
      "\u001b[K     |████████████████████████████████| 42 kB 865 kB/s eta 0:00:011\n",
      "\u001b[?25hCollecting keras-applications>=1.0.8\n",
      "  Downloading Keras_Applications-1.0.8-py3-none-any.whl (50 kB)\n",
      "\u001b[K     |████████████████████████████████| 50 kB 4.0 MB/s  eta 0:00:01\n",
      "\u001b[?25hCollecting h5py\n",
      "  Downloading h5py-2.10.0-cp38-cp38-manylinux1_x86_64.whl (2.9 MB)\n",
      "\u001b[K     |████████████████████████████████| 2.9 MB 18.0 MB/s eta 0:00:01\n",
      "\u001b[?25hRequirement already satisfied: setuptools in /opt/conda/lib/python3.8/site-packages (from protobuf==3.8.0->-r refit/requirements.txt (line 13)) (49.6.0.post20200917)\n",
      "Collecting skl2onnx\n",
      "  Downloading skl2onnx-1.7.0-py2.py3-none-any.whl (191 kB)\n",
      "\u001b[K     |████████████████████████████████| 191 kB 12.4 MB/s eta 0:00:01\n",
      "\u001b[?25hCollecting configparser\n",
      "  Downloading configparser-5.0.0-py3-none-any.whl (22 kB)\n",
      "Requirement already satisfied: urllib3 in /opt/conda/lib/python3.8/site-packages (from minio==6.0.0->-r refit/requirements.txt (line 16)) (1.25.10)\n",
      "Requirement already satisfied: certifi in /opt/conda/lib/python3.8/site-packages (from minio==6.0.0->-r refit/requirements.txt (line 16)) (2020.6.20)\n",
      "Collecting click\n",
      "  Downloading click-7.1.2-py2.py3-none-any.whl (82 kB)\n",
      "\u001b[K     |████████████████████████████████| 82 kB 617 kB/s  eta 0:00:01\n",
      "\u001b[?25hRequirement already satisfied: chardet<4,>=3.0.2 in /opt/conda/lib/python3.8/site-packages (from requests->keras2onnx==1.6.0->-r refit/requirements.txt (line 11)) (3.0.4)\n",
      "Requirement already satisfied: idna<3,>=2.5 in /opt/conda/lib/python3.8/site-packages (from requests->keras2onnx==1.6.0->-r refit/requirements.txt (line 11)) (2.10)\n",
      "Collecting termcolor\n",
      "  Downloading termcolor-1.1.0.tar.gz (3.9 kB)\n",
      "Collecting typing-extensions>=3.6.2.1\n",
      "  Downloading typing_extensions-3.7.4.3-py3-none-any.whl (22 kB)\n",
      "Building wheels for collected packages: sklearn, pyyaml, fire, termcolor\n",
      "  Building wheel for sklearn (setup.py) ... \u001b[?25ldone\n",
      "\u001b[?25h  Created wheel for sklearn: filename=sklearn-0.0-py2.py3-none-any.whl size=1316 sha256=69c9d5ad0e6662556e11f44c5a6e27187d873e9e1795dae066a0fd805568dcd3\n",
      "  Stored in directory: /home/docker_worker/.cache/pip/wheels/22/0b/40/fd3f795caaa1fb4c6cb738bc1f56100be1e57da95849bfc897\n",
      "  Building wheel for pyyaml (setup.py) ... \u001b[?25ldone\n",
      "\u001b[?25h  Created wheel for pyyaml: filename=PyYAML-5.3.1-cp38-cp38-linux_x86_64.whl size=44619 sha256=620f37aa6731990108ba868cef810c3f02906572ec952a4fd90f96d9166f2a54\n",
      "  Stored in directory: /home/docker_worker/.cache/pip/wheels/13/90/db/290ab3a34f2ef0b5a0f89235dc2d40fea83e77de84ed2dc05c\n",
      "  Building wheel for fire (setup.py) ... \u001b[?25ldone\n",
      "\u001b[?25h  Created wheel for fire: filename=fire-0.3.1-py2.py3-none-any.whl size=111005 sha256=1299ca06e5d9011d6a3587e766b860a88d0c824154f74180c934aecbc4f3fb72\n",
      "  Stored in directory: /home/docker_worker/.cache/pip/wheels/35/a0/e2/7c4d0cd36f74f5ca64306f2553b3438af7d158e359a17e8382\n",
      "  Building wheel for termcolor (setup.py) ... \u001b[?25ldone\n",
      "\u001b[?25h  Created wheel for termcolor: filename=termcolor-1.1.0-py3-none-any.whl size=4830 sha256=40baa05798dfe0433c8b42064adc5bceda0b47a7bfca44484ff7beaf4b4b96b0\n",
      "  Stored in directory: /home/docker_worker/.cache/pip/wheels/a0/16/9c/5473df82468f958445479c59e784896fa24f4a5fc024b0f501\n",
      "Successfully built sklearn pyyaml fire termcolor\n",
      "Installing collected packages: pycryptodome, numpy, pytz, pandas, kiwisolver, cycler, pillow, matplotlib, scipy, seaborn, patsy, statsmodels, joblib, threadpoolctl, scikit-learn, sklearn, click, geomet, cassandra-driver, termcolor, fire, typing-extensions, protobuf, onnx, onnxconverter-common, keras2onnx, keras-preprocessing, h5py, keras-applications, pyyaml, Keras, skl2onnx, onnxmltools, configparser, minio\n",
      "Successfully installed Keras-2.2.5 cassandra-driver-3.24.0 click-7.1.2 configparser-5.0.0 cycler-0.10.0 fire-0.3.1 geomet-0.2.1.post1 h5py-2.10.0 joblib-0.16.0 keras-applications-1.0.8 keras-preprocessing-1.1.2 keras2onnx-1.6.0 kiwisolver-1.2.0 matplotlib-3.3.0 minio-6.0.0 numpy-1.18.5 onnx-1.7.0 onnxconverter-common-1.7.0 onnxmltools-1.6.0 pandas-1.1.0 patsy-0.5.1 pillow-7.2.0 protobuf-3.8.0 pycryptodome-3.9.8 pytz-2020.1 pyyaml-5.3.1 scikit-learn-0.23.2 scipy-1.5.2 seaborn-0.10.1 skl2onnx-1.7.0 sklearn-0.0 statsmodels-0.11.1 termcolor-1.1.0 threadpoolctl-2.1.0 typing-extensions-3.7.4.3\n",
      "Refit Installed, You can now run the following to import REFIT\n",
      "from refit.api.refit import Refit\n"
     ]
    }
   ],
   "source": [
    "!refit_init"
   ]
  },
  {
   "cell_type": "code",
   "execution_count": 2,
   "metadata": {},
   "outputs": [],
   "source": [
    "from refit.api.refit import Refit, create_project"
   ]
  },
  {
   "cell_type": "code",
   "execution_count": 3,
   "metadata": {},
   "outputs": [
    {
     "data": {
      "text/plain": [
       "'{\"requestSuccessful\":true}'"
      ]
     },
     "execution_count": 3,
     "metadata": {},
     "output_type": "execute_result"
    }
   ],
   "source": [
    "create_project(\"../data/schemas/demo.yaml\")"
   ]
  },
  {
   "cell_type": "code",
   "execution_count": 4,
   "metadata": {},
   "outputs": [
    {
     "data": {
      "text/plain": [
       "'{\"requestSuccessful\":true}'"
      ]
     },
     "execution_count": 4,
     "metadata": {},
     "output_type": "execute_result"
    }
   ],
   "source": [
    "create_project(\"../data/schemas/medical-devices.yaml\")"
   ]
  }
 ],
 "metadata": {
  "kernelspec": {
   "display_name": "Python 3",
   "language": "python",
   "name": "python3"
  },
  "language_info": {
   "codemirror_mode": {
    "name": "ipython",
    "version": 3
   },
   "file_extension": ".py",
   "mimetype": "text/x-python",
   "name": "python",
   "nbconvert_exporter": "python",
   "pygments_lexer": "ipython3",
   "version": "3.8.5"
  }
 },
 "nbformat": 4,
 "nbformat_minor": 4
}
