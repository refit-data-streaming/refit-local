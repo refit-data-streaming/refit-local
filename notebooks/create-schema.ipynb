{
 "cells": [
  {
   "cell_type": "code",
   "execution_count": 1,
   "metadata": {},
   "outputs": [
    {
     "name": "stdout",
     "output_type": "stream",
     "text": [
      "Requirement already satisfied: pycryptodome==3.9.8 in /opt/conda/lib/python3.8/site-packages (from -r refit/requirements.txt (line 1)) (3.9.8)\n",
      "Requirement already satisfied: numpy==1.18.5 in /opt/conda/lib/python3.8/site-packages (from -r refit/requirements.txt (line 2)) (1.18.5)\n",
      "Requirement already satisfied: pandas==1.1.0 in /opt/conda/lib/python3.8/site-packages (from -r refit/requirements.txt (line 3)) (1.1.0)\n",
      "Requirement already satisfied: seaborn==0.10.1 in /opt/conda/lib/python3.8/site-packages (from -r refit/requirements.txt (line 4)) (0.10.1)\n",
      "Requirement already satisfied: matplotlib==3.3.0 in /opt/conda/lib/python3.8/site-packages (from -r refit/requirements.txt (line 5)) (3.3.0)\n",
      "Requirement already satisfied: scipy==1.5.2 in /opt/conda/lib/python3.8/site-packages (from -r refit/requirements.txt (line 6)) (1.5.2)\n",
      "Requirement already satisfied: statsmodels==0.11.1 in /opt/conda/lib/python3.8/site-packages (from -r refit/requirements.txt (line 7)) (0.11.1)\n",
      "Requirement already satisfied: sklearn==0.0 in /opt/conda/lib/python3.8/site-packages (from -r refit/requirements.txt (line 8)) (0.0)\n",
      "Requirement already satisfied: scikit-learn==0.23.2 in /opt/conda/lib/python3.8/site-packages (from -r refit/requirements.txt (line 9)) (0.23.2)\n",
      "Requirement already satisfied: cassandra-driver==3.24.0 in /opt/conda/lib/python3.8/site-packages (from -r refit/requirements.txt (line 10)) (3.24.0)\n",
      "Requirement already satisfied: keras2onnx==1.6.0 in /opt/conda/lib/python3.8/site-packages (from -r refit/requirements.txt (line 11)) (1.6.0)\n",
      "Requirement already satisfied: Keras==2.2.5 in /opt/conda/lib/python3.8/site-packages (from -r refit/requirements.txt (line 12)) (2.2.5)\n",
      "Requirement already satisfied: protobuf==3.8.0 in /opt/conda/lib/python3.8/site-packages (from -r refit/requirements.txt (line 13)) (3.8.0)\n",
      "Requirement already satisfied: onnxmltools==1.6.0 in /opt/conda/lib/python3.8/site-packages (from -r refit/requirements.txt (line 14)) (1.6.0)\n",
      "Requirement already satisfied: pyyaml==5.3.1 in /opt/conda/lib/python3.8/site-packages (from -r refit/requirements.txt (line 15)) (5.3.1)\n",
      "Requirement already satisfied: minio==6.0.0 in /opt/conda/lib/python3.8/site-packages (from -r refit/requirements.txt (line 16)) (6.0.0)\n",
      "Requirement already satisfied: python-dateutil>=2.7.3 in /opt/conda/lib/python3.8/site-packages (from pandas==1.1.0->-r refit/requirements.txt (line 3)) (2.8.1)\n",
      "Requirement already satisfied: pytz>=2017.2 in /opt/conda/lib/python3.8/site-packages (from pandas==1.1.0->-r refit/requirements.txt (line 3)) (2020.1)\n",
      "Requirement already satisfied: cycler>=0.10 in /opt/conda/lib/python3.8/site-packages (from matplotlib==3.3.0->-r refit/requirements.txt (line 5)) (0.10.0)\n",
      "Requirement already satisfied: kiwisolver>=1.0.1 in /opt/conda/lib/python3.8/site-packages (from matplotlib==3.3.0->-r refit/requirements.txt (line 5)) (1.2.0)\n",
      "Requirement already satisfied: pillow>=6.2.0 in /opt/conda/lib/python3.8/site-packages (from matplotlib==3.3.0->-r refit/requirements.txt (line 5)) (7.2.0)\n",
      "Requirement already satisfied: pyparsing!=2.0.4,!=2.1.2,!=2.1.6,>=2.0.3 in /opt/conda/lib/python3.8/site-packages (from matplotlib==3.3.0->-r refit/requirements.txt (line 5)) (2.4.7)\n",
      "Requirement already satisfied: patsy>=0.5 in /opt/conda/lib/python3.8/site-packages (from statsmodels==0.11.1->-r refit/requirements.txt (line 7)) (0.5.1)\n",
      "Requirement already satisfied: threadpoolctl>=2.0.0 in /opt/conda/lib/python3.8/site-packages (from scikit-learn==0.23.2->-r refit/requirements.txt (line 9)) (2.1.0)\n",
      "Requirement already satisfied: joblib>=0.11 in /opt/conda/lib/python3.8/site-packages (from scikit-learn==0.23.2->-r refit/requirements.txt (line 9)) (0.16.0)\n",
      "Requirement already satisfied: six>=1.9 in /opt/conda/lib/python3.8/site-packages (from cassandra-driver==3.24.0->-r refit/requirements.txt (line 10)) (1.15.0)\n",
      "Requirement already satisfied: geomet<0.3,>=0.1 in /opt/conda/lib/python3.8/site-packages (from cassandra-driver==3.24.0->-r refit/requirements.txt (line 10)) (0.2.1.post1)\n",
      "Requirement already satisfied: onnx in /opt/conda/lib/python3.8/site-packages (from keras2onnx==1.6.0->-r refit/requirements.txt (line 11)) (1.7.0)\n",
      "Requirement already satisfied: fire in /opt/conda/lib/python3.8/site-packages (from keras2onnx==1.6.0->-r refit/requirements.txt (line 11)) (0.3.1)\n",
      "Requirement already satisfied: requests in /opt/conda/lib/python3.8/site-packages (from keras2onnx==1.6.0->-r refit/requirements.txt (line 11)) (2.24.0)\n",
      "Requirement already satisfied: onnxconverter-common>=1.6.0 in /opt/conda/lib/python3.8/site-packages (from keras2onnx==1.6.0->-r refit/requirements.txt (line 11)) (1.7.0)\n",
      "Requirement already satisfied: h5py in /opt/conda/lib/python3.8/site-packages (from Keras==2.2.5->-r refit/requirements.txt (line 12)) (2.10.0)\n",
      "Requirement already satisfied: keras-preprocessing>=1.1.0 in /opt/conda/lib/python3.8/site-packages (from Keras==2.2.5->-r refit/requirements.txt (line 12)) (1.1.2)\n",
      "Requirement already satisfied: keras-applications>=1.0.8 in /opt/conda/lib/python3.8/site-packages (from Keras==2.2.5->-r refit/requirements.txt (line 12)) (1.0.8)\n",
      "Requirement already satisfied: setuptools in /opt/conda/lib/python3.8/site-packages (from protobuf==3.8.0->-r refit/requirements.txt (line 13)) (49.6.0.post20200917)\n",
      "Requirement already satisfied: skl2onnx in /opt/conda/lib/python3.8/site-packages (from onnxmltools==1.6.0->-r refit/requirements.txt (line 14)) (1.7.0)\n",
      "Requirement already satisfied: certifi in /opt/conda/lib/python3.8/site-packages (from minio==6.0.0->-r refit/requirements.txt (line 16)) (2020.6.20)\n",
      "Requirement already satisfied: configparser in /opt/conda/lib/python3.8/site-packages (from minio==6.0.0->-r refit/requirements.txt (line 16)) (5.0.0)\n",
      "Requirement already satisfied: urllib3 in /opt/conda/lib/python3.8/site-packages (from minio==6.0.0->-r refit/requirements.txt (line 16)) (1.25.10)\n",
      "Requirement already satisfied: click in /opt/conda/lib/python3.8/site-packages (from geomet<0.3,>=0.1->cassandra-driver==3.24.0->-r refit/requirements.txt (line 10)) (7.1.2)\n",
      "Requirement already satisfied: typing-extensions>=3.6.2.1 in /opt/conda/lib/python3.8/site-packages (from onnx->keras2onnx==1.6.0->-r refit/requirements.txt (line 11)) (3.7.4.3)\n",
      "Requirement already satisfied: termcolor in /opt/conda/lib/python3.8/site-packages (from fire->keras2onnx==1.6.0->-r refit/requirements.txt (line 11)) (1.1.0)\n",
      "Requirement already satisfied: chardet<4,>=3.0.2 in /opt/conda/lib/python3.8/site-packages (from requests->keras2onnx==1.6.0->-r refit/requirements.txt (line 11)) (3.0.4)\n",
      "Requirement already satisfied: idna<3,>=2.5 in /opt/conda/lib/python3.8/site-packages (from requests->keras2onnx==1.6.0->-r refit/requirements.txt (line 11)) (2.10)\n",
      "Refit Installed, You can now run the following to import REFIT\n",
      "from refit.api.refit import Refit\n"
     ]
    }
   ],
   "source": [
    "!refit_init"
   ]
  },
  {
   "cell_type": "code",
   "execution_count": 2,
   "metadata": {},
   "outputs": [],
   "source": [
    "from refit.api.refit import Refit, create_project"
   ]
  },
  {
   "cell_type": "code",
   "execution_count": 3,
   "metadata": {},
   "outputs": [
    {
     "data": {
      "text/plain": [
       "'{\"requestSuccessful\":true}'"
      ]
     },
     "execution_count": 3,
     "metadata": {},
     "output_type": "execute_result"
    }
   ],
   "source": [
    "create_project(\"../data/schemas/demo.yaml\")"
   ]
  },
  {
   "cell_type": "code",
   "execution_count": 4,
   "metadata": {},
   "outputs": [
    {
     "data": {
      "text/plain": [
       "'{\"requestSuccessful\":true}'"
      ]
     },
     "execution_count": 4,
     "metadata": {},
     "output_type": "execute_result"
    }
   ],
   "source": [
    "create_project(\"../data/schemas/medical-devices.yaml\")"
   ]
  }
 ],
 "metadata": {
  "kernelspec": {
   "display_name": "Python 3",
   "language": "python",
   "name": "python3"
  },
  "language_info": {
   "codemirror_mode": {
    "name": "ipython",
    "version": 3
   },
   "file_extension": ".py",
   "mimetype": "text/x-python",
   "name": "python",
   "nbconvert_exporter": "python",
   "pygments_lexer": "ipython3",
   "version": "3.8.5"
  }
 },
 "nbformat": 4,
 "nbformat_minor": 4
}
